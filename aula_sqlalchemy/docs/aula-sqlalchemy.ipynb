{
 "cells": [
  {
   "attachments": {},
   "cell_type": "markdown",
   "metadata": {},
   "source": [
    "<h1 style=\"color:#6495ED;\">SQLAlchemy</h1>"
   ]
  },
  {
   "attachments": {},
   "cell_type": "markdown",
   "metadata": {},
   "source": [
    "<p>SQLAlchemy é uma biblioteca de mapeamento objeto-relacional para Python. <br />\n",
    "Neste é possível utilizar bancos de dados com Python, tanto através da definição de classes quanto através de código SQL.</p>\n"
   ]
  },
  {
   "attachments": {},
   "cell_type": "markdown",
   "metadata": {},
   "source": [
    "<p><span style=\"color: crimson;\">Observação:</span> Nos exemplos deste notebook será utilizado o SQLite e a tabela abaixo descrita. Para visualização do banco de dados será utilizado o SQLiteStudio.</p>"
   ]
  },
  {
   "attachments": {},
   "cell_type": "markdown",
   "metadata": {},
   "source": [
    "<pre>\n",
    "CREATE TABLE carro(\n",
    "    cd_carro INTEGER PRIMARY KEY AUTOINCREMENT,\n",
    "    nm_marca VARCHAR(50),\n",
    "    nr_placa VARCHAR(10),\n",
    "    nm_cor VARCHAR(10)\n",
    ");\n",
    "</pre>"
   ]
  },
  {
   "attachments": {},
   "cell_type": "markdown",
   "metadata": {},
   "source": [
    "<p>Antes de iniciar, é necessário instalar o SQLAlchemy:</p>"
   ]
  },
  {
   "cell_type": "code",
   "execution_count": null,
   "metadata": {},
   "outputs": [],
   "source": [
    "%pip install sqlalchemy"
   ]
  },
  {
   "attachments": {},
   "cell_type": "markdown",
   "metadata": {},
   "source": [
    "<h3 style=\"color:#6495ED;\">Criação da engine:</h3>"
   ]
  },
  {
   "attachments": {},
   "cell_type": "markdown",
   "metadata": {},
   "source": [
    "<p>Para conectar a um banco de dados suportado pelo SQLAlchemy é necessário instanciar um objeto da classe <span style=\"color:#3DCAB5;\">Engine</span> utilizando a função <span style=\"color:khaki;\">create_engine</span><br />\n",
    "A string de conexão que é passada como parâmetro para o <span style=\"color:khaki;\">create_engine</span> muda de acordo com o banco de dados alvo.</p>"
   ]
  },
  {
   "cell_type": "code",
   "execution_count": 9,
   "metadata": {},
   "outputs": [
    {
     "data": {
      "text/plain": [
       "Engine(sqlite:///aula.db)"
      ]
     },
     "execution_count": 9,
     "metadata": {},
     "output_type": "execute_result"
    }
   ],
   "source": [
    "from sqlalchemy import create_engine\n",
    "\n",
    "DATABASE_NAME = \"aula.db\"\n",
    "\n",
    "engine = create_engine(f\"sqlite:///{DATABASE_NAME}\")\n",
    "engine"
   ]
  },
  {
   "attachments": {},
   "cell_type": "markdown",
   "metadata": {},
   "source": [
    "<h3 style=\"color:#6495ED;\">Criação da sessão:</h3>"
   ]
  },
  {
   "attachments": {},
   "cell_type": "markdown",
   "metadata": {},
   "source": [
    "<p>Quando criada uma engine, ela pode utilizada para a criação de uma <span style=\"color:#3DCAB5;\">Sessão</span> utilizando a função <span style=\"color:khaki;\">sessionmaker</span>.<br />\n",
    "Comando SQL devem ser executados a partir de uma sessão.</p>"
   ]
  },
  {
   "cell_type": "code",
   "execution_count": null,
   "metadata": {},
   "outputs": [],
   "source": [
    "from sqlalchemy.orm import sessionmaker\n",
    "\n",
    "Session = sessionmaker(bind=engine)\n",
    "session = Session()\n",
    "session"
   ]
  },
  {
   "attachments": {},
   "cell_type": "markdown",
   "metadata": {},
   "source": [
    "<h3 style=\"color:#6495ED;\">Executando comandos SQL:</h3>"
   ]
  },
  {
   "attachments": {},
   "cell_type": "markdown",
   "metadata": {},
   "source": [
    "<p>Utiliza-se o método <span style=\"color:khaki;\">execute</span> para executar comandos SQL no banco de dados.<br />\n",
    "Sessões funcionam no formato transaction, de forma que é necessário <span style=\"color:khaki;\">commit</span> para executar comandos DML no BD.</p>"
   ]
  },
  {
   "cell_type": "code",
   "execution_count": null,
   "metadata": {},
   "outputs": [],
   "source": [
    "session.execute(\"\"\"CREATE TABLE carro(\n",
    "    cd_carro INTEGER PRIMARY KEY AUTOINCREMENT,\n",
    "    nm_marca VARCHAR(50),\n",
    "    nr_placa VARCHAR(10),\n",
    "    nm_cor VARCHAR(10)\n",
    "    );\"\"\")"
   ]
  },
  {
   "cell_type": "code",
   "execution_count": null,
   "metadata": {},
   "outputs": [],
   "source": [
    "session.execute(\"\"\"INSERT INTO carro (nm_marca, nr_placa, nm_cor) VALUES ('Fiat', 'ABC-1234', 'Prata')\"\"\")\n",
    "session.execute(\"\"\"INSERT INTO carro (nm_marca, nr_placa, nm_cor) VALUES ('Volvo', 'ABC-9876', 'Branco')\"\"\")\n",
    "session.commit()"
   ]
  },
  {
   "attachments": {},
   "cell_type": "markdown",
   "metadata": {},
   "source": [
    "<p>Caso haja um erro, é possível retornar a sessão ao estado anterior, não propagando as modificações, utilizando o <span style=\"color:khaki;\">rollback</span>:</p>"
   ]
  },
  {
   "cell_type": "code",
   "execution_count": null,
   "metadata": {},
   "outputs": [],
   "source": [
    "retorno = session.execute(\"\"\"INSERT INTO carro (nm_marca, nr_placa, nm_cor) VALUES ('Ford', 'ABC-4567', 'Preto')\"\"\")\n",
    "session.rollback()"
   ]
  },
  {
   "attachments": {},
   "cell_type": "markdown",
   "metadata": {},
   "source": [
    "Consulta:"
   ]
  },
  {
   "cell_type": "code",
   "execution_count": null,
   "metadata": {},
   "outputs": [],
   "source": [
    "results = session.execute(\"\"\"SELECT * FROM carro\"\"\")\n",
    "results"
   ]
  },
  {
   "cell_type": "code",
   "execution_count": null,
   "metadata": {},
   "outputs": [],
   "source": [
    "for result in results:\n",
    "    print(result)"
   ]
  },
  {
   "cell_type": "code",
   "execution_count": null,
   "metadata": {},
   "outputs": [],
   "source": [
    "class Carro:\n",
    "\n",
    "    def __init__(self, cd_carro, nm_marca, nr_placa, nm_cor) -> None:\n",
    "        self.cd_carro = cd_carro\n",
    "        self.nm_marca = nm_marca\n",
    "        self.nr_placa = nr_placa\n",
    "        self.nm_cor = nm_cor"
   ]
  },
  {
   "cell_type": "code",
   "execution_count": null,
   "metadata": {},
   "outputs": [],
   "source": [
    "results = session.execute(\"\"\"SELECT * FROM carro\"\"\")\n",
    "results"
   ]
  },
  {
   "cell_type": "code",
   "execution_count": null,
   "metadata": {},
   "outputs": [],
   "source": [
    "for result in results:\n",
    "    carro = Carro(result[0], result[1], result[2], result[3])\n",
    "    print(carro.__dict__)"
   ]
  },
  {
   "cell_type": "code",
   "execution_count": null,
   "metadata": {},
   "outputs": [],
   "source": [
    "results = session.execute(\"\"\"SELECT * FROM carro WHERE cd_carro = 1 LIMIT 1\"\"\")\n",
    "results.__next__()"
   ]
  },
  {
   "attachments": {},
   "cell_type": "markdown",
   "metadata": {},
   "source": [
    "<p><b>Uma sessão deve sempre ser encerrada, utilizando o <span style=\"color:khaki;\">close</span>:</b></p>"
   ]
  },
  {
   "cell_type": "code",
   "execution_count": null,
   "metadata": {},
   "outputs": [],
   "source": [
    "session.close()"
   ]
  },
  {
   "cell_type": "code",
   "execution_count": null,
   "metadata": {},
   "outputs": [],
   "source": [
    "from sqlalchemy import create_engine\n",
    "from sqlalchemy.orm import sessionmaker"
   ]
  },
  {
   "cell_type": "code",
   "execution_count": null,
   "metadata": {},
   "outputs": [],
   "source": [
    "engine = create_engine(\"\"\"sqlite:///aula.db\"\"\")\n",
    "Session = sessionmaker(bind=engine)\n",
    "session = Session()"
   ]
  },
  {
   "cell_type": "code",
   "execution_count": null,
   "metadata": {},
   "outputs": [],
   "source": [
    "session.execute(\"\"\"CREATE TABLE cliente(\n",
    "    cd_cliente INTEGER PRIMARY KEY AUTOINCREMENT,\n",
    "    nm_cliente VARCHAR(50) NOT NULL,\n",
    "    nr_cpf VARCHAR(11) NOT NULL,\n",
    "    dsc_endereco VARCHAR(70),\n",
    "    renda NUMBER\n",
    "    )\"\"\")"
   ]
  },
  {
   "cell_type": "code",
   "execution_count": null,
   "metadata": {},
   "outputs": [],
   "source": [
    "session.execute(\"\"\"INSERT INTO cliente (nm_cliente, nr_cpf, dsc_endereco, renda)\n",
    "    VALUES ('Fulano', '10', 'Rua Bla 10', 1200)\"\"\")\n",
    "session.execute(\"\"\"INSERT INTO cliente (nm_cliente, nr_cpf, dsc_endereco, renda)\n",
    "    VALUES ('Beltrano', '11', 'Rua Ble 100', 1400)\"\"\")\n",
    "session.commit()\n",
    "session.close()"
   ]
  },
  {
   "cell_type": "code",
   "execution_count": 1,
   "metadata": {},
   "outputs": [],
   "source": [
    "class Cliente:\n",
    "    \n",
    "    def __init__(self, nm_cliente, nr_cpf, dsc_endereco, renda, cd_cliente=None) -> None:\n",
    "        self.cd_cliente = cd_cliente\n",
    "        self.nm_cliente = nm_cliente\n",
    "        self.nr_cpf = nr_cpf\n",
    "        self.dsc_endereco = dsc_endereco\n",
    "        self.renda = renda"
   ]
  },
  {
   "cell_type": "code",
   "execution_count": 2,
   "metadata": {},
   "outputs": [],
   "source": [
    "from sqlalchemy import create_engine\n",
    "from sqlalchemy.orm import sessionmaker\n",
    "from typing import List, Union\n",
    "\n",
    "class ClienteDAO:\n",
    "\n",
    "    def __init__(self) -> None:\n",
    "        DATABASE_NAME = \"aula.db\"\n",
    "        Session = sessionmaker(bind=create_engine(f\"sqlite:///{DATABASE_NAME}\"))\n",
    "        self.session = Session()\n",
    "    \n",
    "    def __del__(self) -> None:\n",
    "        self.session.close()\n",
    "\n",
    "    def save(self, cliente: Cliente) -> None:\n",
    "        self.session.execute(f\"\"\"INSERT INTO cliente (nm_cliente, nr_cpf, dsc_endereco, renda)\n",
    "        VALUES ('{cliente.nm_cliente}', '{cliente.nr_cpf}', '{cliente.dsc_endereco}', '{cliente.renda}')\"\"\")\n",
    "        self.session.commit()\n",
    "\n",
    "    def query(self, cd_cliente: int) -> Union[Cliente,None]:\n",
    "        results = self.session.execute(f\"\"\"SELECT nm_cliente, nr_cpf, dsc_endereco, renda, cd_cliente FROM cliente\n",
    "                                           WHERE cd_cliente = {cd_cliente} LIMIT 1\"\"\")\n",
    "        try:\n",
    "            result = results.__next__()\n",
    "            cliente = Cliente(result[0], result[1], result[2], result[3], result[4])\n",
    "            return cliente\n",
    "        except StopIteration:\n",
    "            return None\n",
    "\n",
    "    def query_all(self) -> List[Cliente]:\n",
    "        resultados = []\n",
    "        results = self.session.execute(f\"\"\"SELECT nm_cliente, nr_cpf, dsc_endereco, renda, cd_cliente FROM cliente\"\"\")\n",
    "        for result in results:\n",
    "            cliente = Cliente(result[0], result[1], result[2], result[3], result[4])\n",
    "            resultados.append(cliente)\n",
    "        return resultados\n"
   ]
  },
  {
   "cell_type": "code",
   "execution_count": 3,
   "metadata": {},
   "outputs": [],
   "source": [
    "cliente = Cliente('Cicrano', '20', 'Rua Sei lá 201', 1500)\n",
    "dao = ClienteDAO()\n",
    "dao.save(cliente)"
   ]
  },
  {
   "cell_type": "code",
   "execution_count": 5,
   "metadata": {},
   "outputs": [
    {
     "data": {
      "text/plain": [
       "{'cd_cliente': None,\n",
       " 'nm_cliente': 'Fulano',\n",
       " 'nr_cpf': '10',\n",
       " 'dsc_endereco': 'Rua Bla 10',\n",
       " 'renda': 1200}"
      ]
     },
     "execution_count": 5,
     "metadata": {},
     "output_type": "execute_result"
    }
   ],
   "source": [
    "cliente = dao.query(1)\n",
    "cliente.__dict__"
   ]
  },
  {
   "cell_type": "code",
   "execution_count": 7,
   "metadata": {},
   "outputs": [
    {
     "name": "stdout",
     "output_type": "stream",
     "text": [
      "{'cd_cliente': None, 'nm_cliente': 'Fulano', 'nr_cpf': '10', 'dsc_endereco': 'Rua Bla 10', 'renda': 1200}\n",
      "{'cd_cliente': None, 'nm_cliente': 'Beltrano', 'nr_cpf': '11', 'dsc_endereco': 'Rua Ble 100', 'renda': 1400}\n",
      "{'cd_cliente': None, 'nm_cliente': 'Cicrano', 'nr_cpf': '20', 'dsc_endereco': 'Rua Sei lá 201', 'renda': 1500}\n"
     ]
    }
   ],
   "source": [
    "clientes = dao.query_all()\n",
    "for cliente in clientes:\n",
    "    print(cliente.__dict__)"
   ]
  },
  {
   "attachments": {},
   "cell_type": "markdown",
   "metadata": {},
   "source": [
    "<h3 style=\"color:#6495ED;\">ORM:</h3>"
   ]
  },
  {
   "attachments": {},
   "cell_type": "markdown",
   "metadata": {},
   "source": [
    "<p>Além de poder se executar comandos SQL o SQLAlchemy também possuí um pacote de ORM ( Object-relational mapping ) que permite mapear as tabelas do banco em classes e objetos. Para isso, utilizamos a função <span style=\"color:khaki\";>declarative_base</span> do pacote <span style=\"color:#3DCAB5;\">sqlalchemy.orm</span></p>"
   ]
  },
  {
   "cell_type": "code",
   "execution_count": 1,
   "metadata": {},
   "outputs": [],
   "source": [
    "from sqlalchemy.orm import declarative_base\n",
    "\n",
    "Base = declarative_base()"
   ]
  },
  {
   "cell_type": "code",
   "execution_count": 2,
   "metadata": {},
   "outputs": [],
   "source": [
    "from sqlalchemy import Column, Integer, String\n",
    "\n",
    "class CarroTable(Base):\n",
    "    __tablename__ = \"carro\"\n",
    "\n",
    "    cd_carro = Column(\"cd_carro\", Integer, primary_key=True)\n",
    "    nm_marca = Column(\"nm_marca\", String(50))\n",
    "    nr_placa = Column(\"nr_placa\", String(10))\n",
    "    nm_cor = Column(\"nm_cor\", String(10))"
   ]
  },
  {
   "cell_type": "code",
   "execution_count": 3,
   "metadata": {},
   "outputs": [],
   "source": [
    "carro = CarroTable()\n",
    "carro.nm_marca = \"Ford\"\n",
    "carro.nr_placa = \"ABC-1010\"\n",
    "carro.nm_cor = \"Azul\""
   ]
  },
  {
   "attachments": {},
   "cell_type": "markdown",
   "metadata": {},
   "source": [
    "INSERT:"
   ]
  },
  {
   "cell_type": "code",
   "execution_count": 4,
   "metadata": {},
   "outputs": [
    {
     "ename": "NameError",
     "evalue": "name 'sessionmaker' is not defined",
     "output_type": "error",
     "traceback": [
      "\u001b[0;31m---------------------------------------------------------------------------\u001b[0m",
      "\u001b[0;31mNameError\u001b[0m                                 Traceback (most recent call last)",
      "Cell \u001b[0;32mIn[4], line 1\u001b[0m\n\u001b[0;32m----> 1\u001b[0m Session \u001b[39m=\u001b[39m sessionmaker(bind\u001b[39m=\u001b[39mengine)\n\u001b[1;32m      2\u001b[0m session \u001b[39m=\u001b[39m Session()\n\u001b[1;32m      3\u001b[0m session\u001b[39m.\u001b[39madd(carro)\n",
      "\u001b[0;31mNameError\u001b[0m: name 'sessionmaker' is not defined"
     ]
    }
   ],
   "source": [
    "Session = sessionmaker(bind=engine)\n",
    "session = Session()\n",
    "session.add(carro)\n",
    "session.commit()\n",
    "session.close()"
   ]
  },
  {
   "attachments": {},
   "cell_type": "markdown",
   "metadata": {},
   "source": [
    "SELECT:"
   ]
  },
  {
   "cell_type": "code",
   "execution_count": 16,
   "metadata": {},
   "outputs": [
    {
     "name": "stdout",
     "output_type": "stream",
     "text": [
      "{'_sa_instance_state': <sqlalchemy.orm.state.InstanceState object at 0x000001D1D91F1A88>, 'nm_cor': 'Prata', 'cd_carro': 1, 'nm_marca': 'Fiat', 'nr_placa': 'ABC-1234'}\n",
      "{'_sa_instance_state': <sqlalchemy.orm.state.InstanceState object at 0x000001D1D91F1148>, 'nm_cor': 'Branco', 'cd_carro': 2, 'nm_marca': 'Volvo', 'nr_placa': 'ABC-9876'}\n",
      "{'_sa_instance_state': <sqlalchemy.orm.state.InstanceState object at 0x000001D1D91F11C8>, 'nm_cor': 'Branco', 'cd_carro': 3, 'nm_marca': 'Volvo', 'nr_placa': 'ABC-9876'}\n",
      "{'_sa_instance_state': <sqlalchemy.orm.state.InstanceState object at 0x000001D1D91F1808>, 'nm_cor': 'Azul', 'cd_carro': 4, 'nm_marca': 'Ford', 'nr_placa': 'ABC-1010'}\n",
      "{'_sa_instance_state': <sqlalchemy.orm.state.InstanceState object at 0x000001D1D91F12C8>, 'nm_cor': 'Azul', 'cd_carro': 5, 'nm_marca': 'Ford', 'nr_placa': 'ABC-1010'}\n"
     ]
    }
   ],
   "source": [
    "Session = sessionmaker(bind=engine)\n",
    "session = Session()\n",
    "\n",
    "results = session.query(CarroTable).all()\n",
    "\n",
    "for result in results:\n",
    "    print(result.__dict__)\n",
    "\n",
    "session.close()"
   ]
  },
  {
   "attachments": {},
   "cell_type": "markdown",
   "metadata": {},
   "source": [
    "SELECT BY ID:"
   ]
  },
  {
   "cell_type": "code",
   "execution_count": 17,
   "metadata": {},
   "outputs": [
    {
     "name": "stdout",
     "output_type": "stream",
     "text": [
      "{'_sa_instance_state': <sqlalchemy.orm.state.InstanceState object at 0x000001D1D90BC248>, 'nm_cor': 'Prata', 'cd_carro': 1, 'nm_marca': 'Fiat', 'nr_placa': 'ABC-1234'}\n"
     ]
    }
   ],
   "source": [
    "Session = sessionmaker(bind=engine)\n",
    "session = Session()\n",
    "\n",
    "results = session.query(CarroTable).filter_by(cd_carro=1)\n",
    "\n",
    "for result in results:\n",
    "    print(result.__dict__)\n",
    "\n",
    "session.close()"
   ]
  },
  {
   "cell_type": "code",
   "execution_count": 18,
   "metadata": {},
   "outputs": [
    {
     "name": "stdout",
     "output_type": "stream",
     "text": [
      "{'_sa_instance_state': <sqlalchemy.orm.state.InstanceState object at 0x000001D1D8050CC8>, 'nm_cor': 'Azul', 'cd_carro': 4, 'nm_marca': 'Ford', 'nr_placa': 'ABC-1010'}\n",
      "{'_sa_instance_state': <sqlalchemy.orm.state.InstanceState object at 0x000001D1D922B088>, 'nm_cor': 'Azul', 'cd_carro': 5, 'nm_marca': 'Ford', 'nr_placa': 'ABC-1010'}\n"
     ]
    }
   ],
   "source": [
    "Session = sessionmaker(bind=engine)\n",
    "session = Session()\n",
    "\n",
    "results = session.query(CarroTable).filter_by(nm_cor='Azul')\n",
    "\n",
    "for result in results:\n",
    "    print(result.__dict__)\n",
    "\n",
    "session.close()"
   ]
  },
  {
   "cell_type": "code",
   "execution_count": 19,
   "metadata": {},
   "outputs": [
    {
     "name": "stdout",
     "output_type": "stream",
     "text": [
      "{'_sa_instance_state': <sqlalchemy.orm.state.InstanceState object at 0x000001D1D922B888>, 'nm_cor': 'Azul', 'cd_carro': 4, 'nm_marca': 'Ford', 'nr_placa': 'ABC-1010'}\n",
      "{'_sa_instance_state': <sqlalchemy.orm.state.InstanceState object at 0x000001D1D922B908>, 'nm_cor': 'Azul', 'cd_carro': 5, 'nm_marca': 'Ford', 'nr_placa': 'ABC-1010'}\n"
     ]
    }
   ],
   "source": [
    "Session = sessionmaker(bind=engine)\n",
    "session = Session()\n",
    "\n",
    "results = session.query(CarroTable).filter(CarroTable.nm_cor =='Azul')\n",
    "\n",
    "for result in results:\n",
    "    print(result.__dict__)\n",
    "\n",
    "session.close()"
   ]
  },
  {
   "attachments": {},
   "cell_type": "markdown",
   "metadata": {},
   "source": [
    "EXERCICIO:"
   ]
  },
  {
   "cell_type": "code",
   "execution_count": 20,
   "metadata": {},
   "outputs": [],
   "source": [
    "from sqlalchemy.orm import declarative_base\n",
    "\n",
    "Base = declarative_base()"
   ]
  },
  {
   "cell_type": "code",
   "execution_count": 21,
   "metadata": {},
   "outputs": [],
   "source": [
    "from sqlalchemy import Column, Integer, String, Float\n",
    "\n",
    "class Cliente(Base):\n",
    "    __tablename__ = \"cliente\"\n",
    "\n",
    "    cd_cliente = Column(\"cd_cliente\", Integer, primary_key=True)\n",
    "    nm_cliente = Column(\"nm_cliente\", String(50))\n",
    "    nr_cpf = Column(\"nr_cpf\", String(11))\n",
    "    dsc_endereco = Column(\"dsc_endereco\", String(70))\n",
    "    renda = Column(\"renda\", Float)"
   ]
  },
  {
   "cell_type": "code",
   "execution_count": 22,
   "metadata": {},
   "outputs": [],
   "source": [
    "Session = sessionmaker(bind=engine)\n",
    "session = Session()"
   ]
  },
  {
   "cell_type": "code",
   "execution_count": 23,
   "metadata": {},
   "outputs": [],
   "source": [
    "cliente = Cliente()\n",
    "cliente.nm_cliente = \"Batman\"\n",
    "cliente.nr_cpf = \"100\"\n",
    "cliente.dsc_endereco = \"BatCaverna\"\n",
    "cliente.renda = 1"
   ]
  },
  {
   "cell_type": "code",
   "execution_count": 24,
   "metadata": {},
   "outputs": [],
   "source": [
    "session.add(cliente)\n",
    "session.commit()"
   ]
  },
  {
   "cell_type": "code",
   "execution_count": 25,
   "metadata": {},
   "outputs": [
    {
     "name": "stdout",
     "output_type": "stream",
     "text": [
      "{'_sa_instance_state': <sqlalchemy.orm.state.InstanceState object at 0x000001D1D9221C88>, 'nm_cliente': 'Fulano', 'dsc_endereco': 'Rua Bla 10', 'cd_cliente': 1, 'nr_cpf': '10', 'renda': 1200}\n",
      "{'_sa_instance_state': <sqlalchemy.orm.state.InstanceState object at 0x000001D1D9221C08>, 'nm_cliente': 'Beltrano', 'dsc_endereco': 'Rua Ble 100', 'cd_cliente': 2, 'nr_cpf': '11', 'renda': 1400}\n",
      "{'_sa_instance_state': <sqlalchemy.orm.state.InstanceState object at 0x000001D1D9221D88>, 'nm_cliente': 'Cicrano', 'dsc_endereco': 'Rua Sei lá 201', 'cd_cliente': 3, 'nr_cpf': '20', 'renda': 1500}\n",
      "{'_sa_instance_state': <sqlalchemy.orm.state.InstanceState object at 0x000001D1D9221348>, 'nm_cliente': 'Batman', 'dsc_endereco': 'BatCaverna', 'cd_cliente': 4, 'nr_cpf': '100', 'renda': 1}\n"
     ]
    }
   ],
   "source": [
    "results = session.query(Cliente).all()\n",
    "for result in results:\n",
    "    print(result.__dict__)"
   ]
  },
  {
   "cell_type": "code",
   "execution_count": 26,
   "metadata": {},
   "outputs": [
    {
     "name": "stdout",
     "output_type": "stream",
     "text": [
      "{'_sa_instance_state': <sqlalchemy.orm.state.InstanceState object at 0x000001D1D9221348>, 'nm_cliente': 'Batman', 'dsc_endereco': 'BatCaverna', 'cd_cliente': 4, 'nr_cpf': '100', 'renda': 1}\n"
     ]
    }
   ],
   "source": [
    "results = session.query(Cliente).filter_by(cd_cliente=4)\n",
    "for result in results:\n",
    "    print(result.__dict__)"
   ]
  },
  {
   "cell_type": "code",
   "execution_count": 27,
   "metadata": {},
   "outputs": [
    {
     "name": "stdout",
     "output_type": "stream",
     "text": [
      "{'_sa_instance_state': <sqlalchemy.orm.state.InstanceState object at 0x000001D1D90B6B08>, 'nm_cliente': 'Beltrano', 'dsc_endereco': 'Rua Ble 100', 'cd_cliente': 2, 'nr_cpf': '11', 'renda': 1400}\n",
      "{'_sa_instance_state': <sqlalchemy.orm.state.InstanceState object at 0x000001D1D90B6B48>, 'nm_cliente': 'Cicrano', 'dsc_endereco': 'Rua Sei lá 201', 'cd_cliente': 3, 'nr_cpf': '20', 'renda': 1500}\n"
     ]
    }
   ],
   "source": [
    "results = session.query(Cliente).filter(Cliente.renda > 1200, Cliente.renda <= 1500)\n",
    "for result in results:\n",
    "    print(result.__dict__)"
   ]
  },
  {
   "cell_type": "code",
   "execution_count": null,
   "metadata": {},
   "outputs": [],
   "source": [
    "session.close()"
   ]
  },
  {
   "attachments": {},
   "cell_type": "markdown",
   "metadata": {},
   "source": [
    "<h3 style=\"color:#6495ED;\">Dataclasses:</h3>"
   ]
  },
  {
   "cell_type": "code",
   "execution_count": null,
   "metadata": {},
   "outputs": [],
   "source": [
    "from dataclasses import dataclass"
   ]
  },
  {
   "cell_type": "code",
   "execution_count": null,
   "metadata": {},
   "outputs": [],
   "source": [
    "from typing import Optional\n",
    "\n",
    "@dataclass\n",
    "class Carro:\n",
    "    cd_carro: int\n",
    "    nm_marca: str\n",
    "    nr_placa: str\n",
    "    nm_cor: Optional[str] = None"
   ]
  },
  {
   "cell_type": "code",
   "execution_count": null,
   "metadata": {},
   "outputs": [],
   "source": [
    "carro = Carro(1, \"Citroen\", \"ABC-2020\", \"Vermelho\")"
   ]
  },
  {
   "cell_type": "code",
   "execution_count": null,
   "metadata": {},
   "outputs": [],
   "source": [
    "print(carro)"
   ]
  },
  {
   "attachments": {},
   "cell_type": "markdown",
   "metadata": {},
   "source": [
    "<h3 style=\"color:#6495ED;\">Agrupando as duas estruturas:</h3>"
   ]
  },
  {
   "cell_type": "code",
   "execution_count": null,
   "metadata": {},
   "outputs": [],
   "source": [
    "class CarroTable(Base):\n",
    "    __tablename__ = \"carro\"\n",
    "\n",
    "    cd_carro = Column(\"cd_carro\", Integer, primary_key=True)\n",
    "    nm_marca = Column(\"nm_marca\", String(50))\n",
    "    nr_placa = Column(\"nr_placa\", String(10))\n",
    "    nm_cor = Column(\"nm_cor\", String(10))"
   ]
  },
  {
   "cell_type": "code",
   "execution_count": null,
   "metadata": {},
   "outputs": [],
   "source": [
    "@dataclass\n",
    "class Carro(CarroTable):\n",
    "    cd_carro: int\n",
    "    nm_marca: str\n",
    "    nr_placa: str\n",
    "    nm_cor: Optional[str] = None"
   ]
  },
  {
   "cell_type": "code",
   "execution_count": null,
   "metadata": {},
   "outputs": [],
   "source": [
    "carro = Carro(4, \"Citroen\", nr_placa=\"ABC-2020\", nm_cor=\"Prata\")"
   ]
  }
 ],
 "metadata": {
  "kernelspec": {
   "display_name": "Python 3.7.9 64-bit (windows store)",
   "language": "python",
   "name": "python3"
  },
  "language_info": {
   "codemirror_mode": {
    "name": "ipython",
    "version": 3
   },
   "file_extension": ".py",
   "mimetype": "text/x-python",
   "name": "python",
   "nbconvert_exporter": "python",
   "pygments_lexer": "ipython3",
   "version": "3.10.6"
  },
  "orig_nbformat": 4,
  "vscode": {
   "interpreter": {
    "hash": "39a25611f9fccc4e358ed5a6ff84d955c0950a300bb89bf6122cf9ec76497b9e"
   }
  }
 },
 "nbformat": 4,
 "nbformat_minor": 2
}
